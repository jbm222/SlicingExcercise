{
  "nbformat": 4,
  "nbformat_minor": 0,
  "metadata": {
    "colab": {
      "provenance": []
    },
    "kernelspec": {
      "name": "python3",
      "display_name": "Python 3"
    },
    "language_info": {
      "name": "python"
    }
  },
  "cells": [
    {
      "cell_type": "code",
      "execution_count": 10,
      "metadata": {
        "colab": {
          "base_uri": "https://localhost:8080/"
        },
        "id": "bpK-WCM3waMC",
        "outputId": "d70816ad-9b63-4f57-8ed1-504fd362d759"
      },
      "outputs": [
        {
          "output_type": "stream",
          "name": "stdout",
          "text": [
            "Enter a Date in format MM/DD/YYYY02/21/2024\n",
            "02/21/2024\n",
            "02\n",
            "21\n",
            "2024\n"
          ]
        }
      ],
      "source": [
        "s = str(input('Enter a Date in format MM/DD/YYYY'))\n",
        "print(s)\n",
        "Month_s = s[:2]\n",
        "print(Month_s)\n",
        "Day_s = s[3:5]\n",
        "print(Day_s)\n",
        "Year_s = s[6:]\n",
        "print(Year_s)\n"
      ]
    }
  ]
}