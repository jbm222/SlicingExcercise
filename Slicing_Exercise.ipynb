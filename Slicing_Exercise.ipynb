{
  "nbformat": 4,
  "nbformat_minor": 0,
  "metadata": {
    "colab": {
      "provenance": [],
      "authorship_tag": "ABX9TyPlfH6v4KPCW8thHDEmuGO4",
      "include_colab_link": true
    },
    "kernelspec": {
      "name": "python3",
      "display_name": "Python 3"
    },
    "language_info": {
      "name": "python"
    }
  },
  "cells": [
    {
      "cell_type": "markdown",
      "metadata": {
        "id": "view-in-github",
        "colab_type": "text"
      },
      "source": [
        "<a href=\"https://colab.research.google.com/github/jbm222/SlicingExcercise/blob/main/Slicing_Exercise.ipynb\" target=\"_parent\"><img src=\"https://colab.research.google.com/assets/colab-badge.svg\" alt=\"Open In Colab\"/></a>"
      ]
    },
    {
      "cell_type": "code",
      "execution_count": 10,
      "metadata": {
        "colab": {
          "base_uri": "https://localhost:8080/"
        },
        "id": "bpK-WCM3waMC",
        "outputId": "d70816ad-9b63-4f57-8ed1-504fd362d759"
      },
      "outputs": [
        {
          "output_type": "stream",
          "name": "stdout",
          "text": [
            "Enter a Date in format MM/DD/YYYY02/21/2024\n",
            "02/21/2024\n",
            "02\n",
            "21\n",
            "2024\n"
          ]
        }
      ],
      "source": [
        "s = str(input('Enter a Date in format MM/DD/YYYY'))\n",
        "print(s)\n",
        "Month_s = s[:2]\n",
        "print(Month_s)\n",
        "Day_s = s[3:5]\n",
        "print(Day_s)\n",
        "Year_s = s[6:]\n",
        "print(Year_s)\n"
      ]
    }
  ]
}